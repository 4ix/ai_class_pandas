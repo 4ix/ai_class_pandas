{
 "cells": [
  {
   "cell_type": "code",
   "execution_count": 1,
   "metadata": {},
   "outputs": [],
   "source": [
    "import numpy as np"
   ]
  },
  {
   "cell_type": "code",
   "execution_count": 19,
   "metadata": {},
   "outputs": [
    {
     "name": "stdout",
     "output_type": "stream",
     "text": [
      "[[ 0  1  2  3  4]\n",
      " [ 5  6  7  8  9]\n",
      " [10 11 12 13 14]] <class 'numpy.ndarray'>\n",
      "\n",
      "배열의 차원: 2\n",
      "배열의 행과 열: (3, 5)\n",
      "배열의 사이즈(총개수): 15\n",
      "배열의 각 요소의 데이터 타입: int32 int32 4\n",
      "\n",
      "[-5.  -4.5 -4.  -3.5 -3.  -2.5 -2.  -1.5 -1.  -0.5  0.   0.5  1.   1.5\n",
      "  2.   2.5  3.   3.5  4.   4.5]\n"
     ]
    }
   ],
   "source": [
    "# create array\n",
    "# 메소드와 멤버: dtype, ndim, shape, size\n",
    "\n",
    "arr = np.arange(15) # 1차원 배열로 반환\n",
    "arr = arr.reshape(3,5) # 3행 5열로 반환\n",
    "print(arr,type(arr))\n",
    "print()\n",
    "print(\"배열의 차원:\", arr.ndim)\n",
    "print(\"배열의 행과 열:\", arr.shape)\n",
    "print(\"배열의 사이즈(총개수):\", arr.size)\n",
    "print(\"배열의 각 요소의 데이터 타입:\", arr.dtype, arr.dtype.name, arr.dtype.itemsize) #dtype.name 데이터 타입의 이름\n",
    "print()\n",
    "\n",
    "arr1 = np.arange(-5, 5, 0.5) # -5부터 5 전까지 -0.5씩 증가\n",
    "print(arr1)"
   ]
  },
  {
   "cell_type": "code",
   "execution_count": 21,
   "metadata": {},
   "outputs": [
    {
     "name": "stdout",
     "output_type": "stream",
     "text": [
      "[1. 2. 3.] <class 'numpy.ndarray'> (3,) float64\n",
      "\n",
      "[[1. 2. 3.]\n",
      " [1. 2. 3.]] <class 'numpy.ndarray'> 2 (2, 3) float64\n"
     ]
    }
   ],
   "source": [
    "# list로 배열 생성\n",
    "a1 = np.array([1.0, 2.0, 3.0])\n",
    "print(a1, type(a1), a1.shape, a1.dtype)\n",
    "print()\n",
    "a2 = np.array([[1.0, 2.0, 3.0],[1.0, 2.0, 3.0]])\n",
    "print(a2, type(a2), a2.ndim, a2.shape, a2.dtype)"
   ]
  },
  {
   "cell_type": "code",
   "execution_count": 22,
   "metadata": {},
   "outputs": [],
   "source": [
    "a = np.zeros(5)\n",
    "b = np.zeros((2, 3))\n",
    "c = np.zeros((5, 2), dtype=\"i\") # int32\n",
    "d = np.zeros(5, dtype=\"U4\") # U->문자열\n",
    "e = np.ones((2, 3, 4), dtype=\"i8\") # int64\n",
    "f = np.ones_like(b, dtype=\"f\") # 실수형, float64\n",
    "g = np.empty((4, 3))"
   ]
  },
  {
   "cell_type": "code",
   "execution_count": 29,
   "metadata": {},
   "outputs": [
    {
     "name": "stdout",
     "output_type": "stream",
     "text": [
      "[[1.00403665e-311 2.81617418e-322 0.00000000e+000]\n",
      " [0.00000000e+000 1.01855798e-312 3.69776220e-062]\n",
      " [4.46458284e-090 3.11289055e-032 5.41398697e-067]\n",
      " [4.71379415e-062 6.48224660e+170 4.93432906e+257]]\n"
     ]
    }
   ],
   "source": [
    "print(g)"
   ]
  },
  {
   "cell_type": "code",
   "execution_count": 30,
   "metadata": {},
   "outputs": [],
   "source": [
    "x1 = np.array([1.0, 2.0, 3.0])\n",
    "y1 = np.array([5.0, 10.0, 15.0])\n",
    "x2 = np.array([[1.0, 2.0],[ 3.0, 4.0]]) \n",
    "y2 = np.array([[5.0,10.0],[15.0,20.0]]) \n",
    "z1 = np.array([-1.0, -2.0])\n",
    "z2 = np.array([[5.0],[10.0],[15.0]])"
   ]
  },
  {
   "cell_type": "code",
   "execution_count": 41,
   "metadata": {},
   "outputs": [
    {
     "name": "stdout",
     "output_type": "stream",
     "text": [
      "[ 6. 12. 18.]\n",
      "[ -4.  -8. -12.]\n",
      "[ 5. 20. 45.]\n",
      "[0.2 0.2 0.2]\n",
      "\n",
      "[[ 6. 12.]\n",
      " [18. 24.]]\n",
      "[[ -4.  -8.]\n",
      " [-12. -16.]]\n",
      "[[ 5. 20.]\n",
      " [45. 80.]]\n",
      "[[0.2 0.2]\n",
      " [0.2 0.2]]\n",
      "\n",
      "[[0. 0.]\n",
      " [2. 2.]]\n",
      "[[2. 4.]\n",
      " [4. 6.]]\n",
      "[[-1. -4.]\n",
      " [-3. -8.]]\n",
      "[[-1. -1.]\n",
      " [-3. -2.]]\n",
      "\n",
      "[1. 4. 9.]\n",
      "[False  True  True]\n"
     ]
    }
   ],
   "source": [
    "# array 기본 연산\n",
    "print(x1+y1) # np.array([ 6. 12. 18.])\n",
    "print(x1-y1) # np.array([ -4. -8. -12.])\n",
    "print(x1*y1) # np.array([ 5. 20. 45.])\n",
    "print(x1/y1) # np.array([ 0.2 0.2 0.2])\n",
    "print()\n",
    "print(x2+y2) # np.array([[ 6. 12.][ 18. 24.]])\n",
    "print(x2-y2)\n",
    "print(x2*y2)\n",
    "print(x2/y2)\n",
    "print()\n",
    "\n",
    "# 행과 열의 갯수가 다른 경우: broadcast\n",
    "print(x2+z1)\n",
    "print(x2-z1)\n",
    "print(x2*z1)\n",
    "print(x2/z1)\n",
    "\n",
    "print()\n",
    "print(x1 ** 2)\n",
    "print(x1 >= 2) # boolen 리턴"
   ]
  },
  {
   "cell_type": "code",
   "execution_count": 50,
   "metadata": {},
   "outputs": [
    {
     "name": "stdout",
     "output_type": "stream",
     "text": [
      "[[1. 2.]\n",
      " [3. 4.]]\n",
      "[1. 2. 3. 4.]\n",
      "(4,)\n",
      "[[1. 2.]\n",
      " [3. 4.]]\n"
     ]
    }
   ],
   "source": [
    "# shape 변경\n",
    "print(x2)\n",
    "print(x2.flatten()) #모든 차수를 1차원으로 변경\n",
    "# x2.reshape(-1,) #1차원으로 변경\n",
    "x3 = x2.reshape(x2.size,) # 1차원으로 변경\n",
    "print(x3.shape)\n",
    "print(x3.reshape(2,2))"
   ]
  },
  {
   "cell_type": "code",
   "execution_count": 62,
   "metadata": {},
   "outputs": [
    {
     "data": {
      "text/plain": [
       "array([[ 0,  1,  2,  3,  4],\n",
       "       [ 5,  6,  7,  8,  9],\n",
       "       [10, 11, 12, 13, 14],\n",
       "       [15, 16, 17, 18, 19]])"
      ]
     },
     "execution_count": 62,
     "metadata": {},
     "output_type": "execute_result"
    }
   ],
   "source": [
    "x = np.arange(20)\n",
    "x.reshape(2,2,5).reshape(4,5)"
   ]
  },
  {
   "cell_type": "code",
   "execution_count": 76,
   "metadata": {},
   "outputs": [
    {
     "name": "stdout",
     "output_type": "stream",
     "text": [
      "[ 0  1  4  9 16 25 36 49 64 81]\n",
      "4\n",
      "[ 9 16]\n",
      "[  0   1  -4   9 -16  25  36  49  64  81]\n",
      "[ 81  64  49  36  25 -16   9  -4   1   0]\n",
      "[  1   2  -3  10 -15  26  37  50  65  82]\n"
     ]
    }
   ],
   "source": [
    "# 인덱싱, 슬라이싱, 이터레이팅\n",
    "a = np.arange(10)**2\n",
    "print(a)\n",
    "print(a[2])\n",
    "print(a[3:5])\n",
    "a[0:6:2] = -a[0:6:2]\n",
    "print(a)\n",
    "print(a[::-1]) # 뒤에서 부터 출력\n",
    "\n",
    "print(a+1)"
   ]
  },
  {
   "cell_type": "code",
   "execution_count": 88,
   "metadata": {},
   "outputs": [
    {
     "name": "stdout",
     "output_type": "stream",
     "text": [
      "[[ 1  2  3  4  5]\n",
      " [ 6  7  8  9 10]\n",
      " [11 12 13 14 15]\n",
      " [16 17 18 19 20]]\n",
      "\n",
      "14\n",
      "[ 2  7 12 17]\n",
      "[ 6  7  8  9 10]\n",
      "17\n",
      "[ 5 10 15 20]\n"
     ]
    }
   ],
   "source": [
    "a = np.arange(1,21,1).reshape(4,5)\n",
    "print(a)\n",
    "print()\n",
    "print(a[2,3]) # 2행 3열\n",
    "print(a[0:4,1]) # 0~4행 1열\n",
    "print(a[1,]) # 1행\n",
    "print(a[-1,1]) # 마지막행 1열\n",
    "print(a[:,-1]) # 마지막열"
   ]
  },
  {
   "cell_type": "code",
   "execution_count": 94,
   "metadata": {},
   "outputs": [
    {
     "name": "stdout",
     "output_type": "stream",
     "text": [
      "[0 1 2 3 4 5]\n",
      "[ 0.          0.84147098  0.90929743  0.14112001 -0.7568025  -0.95892427]\n",
      "[ 1.          0.54030231 -0.41614684 -0.9899925  -0.65364362  0.28366219]\n",
      "[0.         0.76159416 0.96402758 0.99505475 0.9993293  0.9999092 ]\n",
      "[  1.           2.71828183   7.3890561   20.08553692  54.59815003\n",
      " 148.4131591 ]\n"
     ]
    }
   ],
   "source": [
    "a = np.arange(6)\n",
    "print(a)\n",
    "print(np.sin(a)) \n",
    "print(np.cos(a))\n",
    "print(np.tanh(a))\n",
    "print(np.exp(a)) # 지수함수"
   ]
  },
  {
   "cell_type": "code",
   "execution_count": 141,
   "metadata": {},
   "outputs": [
    {
     "name": "stdout",
     "output_type": "stream",
     "text": [
      "[2 5 4]\n",
      "[1 3 2]\n",
      "9\n",
      "[22 80 10 29 97]\n",
      "[3 2 3]\n"
     ]
    }
   ],
   "source": [
    "a1 = np.array([2,3,4])\n",
    "a2 = np.array([1,5,2])\n",
    "\n",
    "print(np.maximum(a1,a2)) # a1 a2 각 위치에서 최대값\n",
    "print(np.minimum(a1,a2)) # a1 a2 각 위치에서 최소값\n",
    "\n",
    "print(np.sum(a1)) #9\n",
    "print(np.random.choice(100,5)) # 0~100 사이 중 5개 선택\n",
    "\n",
    "print(np.random.choice(5,3,p=[0.1, 0, 0.3, 0.6, 0])) # p= 가중치 설정(합은 1)"
   ]
  },
  {
   "cell_type": "code",
   "execution_count": 146,
   "metadata": {},
   "outputs": [
    {
     "data": {
      "text/plain": [
       "array([[0.84042579, 0.75414333, 0.36815904],\n",
       "       [0.53401055, 0.63136879, 0.53613804]])"
      ]
     },
     "execution_count": 146,
     "metadata": {},
     "output_type": "execute_result"
    }
   ],
   "source": [
    "np.random.rand(2,3) # 2열 3행의 랜덤 값 리턴(0과 1사이의 float)"
   ]
  },
  {
   "cell_type": "code",
   "execution_count": 147,
   "metadata": {},
   "outputs": [
    {
     "data": {
      "text/plain": [
       "array([[ 0.9302622 ,  0.47267782,  0.56030077],\n",
       "       [-0.25598879,  0.38369554, -0.37924496]])"
      ]
     },
     "execution_count": 147,
     "metadata": {},
     "output_type": "execute_result"
    }
   ],
   "source": [
    "np.random.randn(2,3) # 2열 3행의 표준 정규분포로 초기화"
   ]
  },
  {
   "cell_type": "code",
   "execution_count": 182,
   "metadata": {},
   "outputs": [
    {
     "data": {
      "text/plain": [
       "0"
      ]
     },
     "execution_count": 182,
     "metadata": {},
     "output_type": "execute_result"
    }
   ],
   "source": [
    "np.random.randint(10) # 0~10사이(9) 까지 임의의 int 리턴"
   ]
  },
  {
   "cell_type": "code",
   "execution_count": 187,
   "metadata": {},
   "outputs": [
    {
     "name": "stdout",
     "output_type": "stream",
     "text": [
      "[6 2 3 1 4 5]\n"
     ]
    }
   ],
   "source": [
    "a = np.array([6,2,3,1,4,5])\n",
    "print(a)"
   ]
  },
  {
   "cell_type": "code",
   "execution_count": 191,
   "metadata": {},
   "outputs": [
    {
     "name": "stdout",
     "output_type": "stream",
     "text": [
      "0 6\n",
      "3\n"
     ]
    }
   ],
   "source": [
    "# 최대값의 위치 출력 argmax(), 최소값의 위치 출력 argmin()\n",
    "print(np.argmax(a), a[np.argmax(a)]) # 인덱스 리턴, 값 리턴\n",
    "print(np.argmin(a)) # 인덱스 리턴"
   ]
  },
  {
   "cell_type": "code",
   "execution_count": 192,
   "metadata": {},
   "outputs": [
    {
     "data": {
      "text/plain": [
       "array([[0.1, 0.8, 0.2],\n",
       "       [0.3, 0.2, 0.5],\n",
       "       [0.9, 0.5, 0.3]])"
      ]
     },
     "execution_count": 192,
     "metadata": {},
     "output_type": "execute_result"
    }
   ],
   "source": [
    "a = np.array([[0.1,0.8,0.2],[0.3,0.2,0.5],[0.9,0.5,0.3]]) \n",
    "a"
   ]
  },
  {
   "cell_type": "code",
   "execution_count": 199,
   "metadata": {},
   "outputs": [
    {
     "name": "stdout",
     "output_type": "stream",
     "text": [
      "6\n",
      "[1 2 0]\n",
      "[2 0 1]\n"
     ]
    }
   ],
   "source": [
    "# ★ 중요 ★\n",
    "print(np.argmax(a)) # 0부터 1씩 증가.. 끝까지, 행 -> 열의 순서로\n",
    "print(np.argmax(a, axis=1)) # 각 행마다 최대값 인덱스 리턴(x축)\n",
    "print(np.argmax(a, axis=0)) # 각 열마다 최대값 인덱스 리턴(y축)"
   ]
  },
  {
   "cell_type": "code",
   "execution_count": 202,
   "metadata": {},
   "outputs": [],
   "source": [
    "# 기술 통계 함수\n",
    "x = np.array([18,   5,  10,  23,  19,  -8,  10,   0,   0,   5,   2,  15,   8, 2,   5,   4,  15,  -1,   4,  -7, -24,   7,   9,  -6,  23, -13])\n"
   ]
  },
  {
   "cell_type": "code",
   "execution_count": 218,
   "metadata": {},
   "outputs": [
    {
     "name": "stdout",
     "output_type": "stream",
     "text": [
      "26\n",
      "평균 > 4.8076923076923075\n",
      "분산 > 115.23224852071006\n",
      "표준편차 > 10.734628476137871\n",
      "최대값 > 23\n",
      "최소값 > -24\n",
      "중앙값 > 5.0\n",
      "1사분위수 > 0.0\n",
      "2사분위수 > 5.0\n",
      "3사분위수 > 10.0\n",
      "4사분위수 > 23.0\n"
     ]
    }
   ],
   "source": [
    "print(len(x)) #데이터의 갯수\n",
    "print('평균 >', np.mean(x))\n",
    "print('분산 >', np.var(x))\n",
    "print('표준편차 >', np.std(x))\n",
    "print('최대값 >', np.max(x))\n",
    "print('최소값 >', np.min(x))\n",
    "print('중앙값 >', np.median(x))\n",
    "print('1사분위수 >', np.percentile(x, 25)) # 25분위 수\n",
    "print('2사분위수 >', np.percentile(x, 50)) # 중앙값\n",
    "print('3사분위수 >', np.percentile(x, 75)) # 75분위 수\n",
    "print('4사분위수 >', np.percentile(x, 100)) # 최대값\n"
   ]
  },
  {
   "cell_type": "code",
   "execution_count": 228,
   "metadata": {},
   "outputs": [
    {
     "data": {
      "text/plain": [
       "array([0.5488135 , 0.71518937, 0.60276338, 0.54488318, 0.4236548 ])"
      ]
     },
     "execution_count": 228,
     "metadata": {},
     "output_type": "execute_result"
    }
   ],
   "source": [
    "# 난수 발생과 카운팅\n",
    "np.random.seed(0) # 시작 숫자를 정해 주면 항상 같은 숫자의 난수 발생\n",
    "np.random.rand(5) # 난수 5개 발생"
   ]
  },
  {
   "cell_type": "code",
   "execution_count": 255,
   "metadata": {},
   "outputs": [
    {
     "name": "stdout",
     "output_type": "stream",
     "text": [
      "[0 1 2 3 4 5 6 7 8 9]\n"
     ]
    },
    {
     "data": {
      "text/plain": [
       "array([9, 4, 0, 1, 9])"
      ]
     },
     "execution_count": 255,
     "metadata": {},
     "output_type": "execute_result"
    }
   ],
   "source": [
    "np.random.seed(10)\n",
    "x = np.arange(10)\n",
    "print(x)\n",
    "\n",
    "np.random.choice(x, 5)"
   ]
  },
  {
   "cell_type": "code",
   "execution_count": 264,
   "metadata": {},
   "outputs": [
    {
     "data": {
      "text/plain": [
       "array([1, 6, 7, 3, 0, 9, 8, 2, 5, 4])"
      ]
     },
     "execution_count": 264,
     "metadata": {},
     "output_type": "execute_result"
    }
   ],
   "source": [
    "np.random.shuffle(x) # 원래의 array를 섞음\n",
    "x"
   ]
  },
  {
   "cell_type": "code",
   "execution_count": 276,
   "metadata": {},
   "outputs": [
    {
     "data": {
      "text/plain": [
       "array([6, 5, 1, 9, 4, 5, 9, 2, 5, 9])"
      ]
     },
     "execution_count": 276,
     "metadata": {},
     "output_type": "execute_result"
    }
   ],
   "source": [
    "np.random.choice(x, len(x), replace=True) # replace=True 중복 허용, False 중복 X"
   ]
  },
  {
   "cell_type": "code",
   "execution_count": 288,
   "metadata": {},
   "outputs": [
    {
     "data": {
      "text/plain": [
       "array([0, 0, 2, 0, 2, 3, 3, 2, 3, 3])"
      ]
     },
     "execution_count": 288,
     "metadata": {},
     "output_type": "execute_result"
    }
   ],
   "source": [
    "np.random.choice(5, 10, p=[0.1, 0, 0.3, 0.6, 0]) # 0부터 5까지 수에서 10개를 뽑는데 p 가중치를 준다."
   ]
  },
  {
   "cell_type": "code",
   "execution_count": 302,
   "metadata": {},
   "outputs": [
    {
     "name": "stdout",
     "output_type": "stream",
     "text": [
      "[0.36632897 0.58990679 0.75923894 0.32235078 0.50202215 0.58383107\n",
      " 0.26660088 0.71384664 0.45727111 0.65023137]\n",
      "[-2.81600122  0.10954443  0.14266929 -0.78403556  0.25761074  1.31292275\n",
      " -1.34902537  0.50013685 -0.98458665  1.48597941]\n",
      "[2 6 4 6 7 0 2 5 1 3]\n",
      "[18 12 15 14 14 15 12 13 14 11]\n",
      "[[15 18 10 10 14]\n",
      " [15 11 12 18 10]\n",
      " [15 12 12 14 16]]\n"
     ]
    }
   ],
   "source": [
    "print(np.random.rand(10)) # 0부터 1사이의 실수 난수 생성\n",
    "print(np.random.randn(10)) # 기대값 0, 표준편차 1인 가우시안 표준 정규 분포 따르는 난수 생성\n",
    "\n",
    "print(np.random.randint(10,size=10)) # 0부터 10까지, 10개 생성\n",
    "print(np.random.randint(10,20,size=10)) # 10부터 20까지, 10개 생성\n",
    "print(np.random.randint(10,20,size=(3,5))) # 10부터 20까지, 3행 5열 15개 생성"
   ]
  },
  {
   "cell_type": "code",
   "execution_count": 325,
   "metadata": {},
   "outputs": [
    {
     "name": "stdout",
     "output_type": "stream",
     "text": [
      "[3, 6, 9, 12, 15, 18]\n",
      "[1, 5, 9, 13, 17]\n",
      "{9}\n"
     ]
    }
   ],
   "source": [
    "x = np.array([1, 2, 3, 4, 5, 6, 7, 8, 9, 10, 11, 12, 13, 14, 15, 16, 17, 18, 19, 20])\n",
    "\n",
    "#이 배열에서 3의 배수를 찾아라.\n",
    "a = list(x for x in range(1,len(x)) if x%3 == 0)\n",
    "print(a)\n",
    "\n",
    "#이 배열에서 4로 나누면 1이 남는 수를 찾아라.\n",
    "b = list(x for x in range(len(x)) if x%4 == 1)\n",
    "print(b)\n",
    "\n",
    "#이 배열에서 3으로 나누면 나누어지고 4로 나누면 1이 남는 수를 찾아라.\n",
    "print(set(a) & set(b))\n"
   ]
  },
  {
   "cell_type": "code",
   "execution_count": 331,
   "metadata": {},
   "outputs": [
    {
     "name": "stdout",
     "output_type": "stream",
     "text": [
      "[ 3  6  9 12 15 18]\n",
      "[ 1  5  9 13 17]\n",
      "[9]\n"
     ]
    }
   ],
   "source": [
    "print(x[x%3==0])\n",
    "print(x[x%4==1])\n",
    "print(x[(x%3==0) & (x%4==1)])"
   ]
  }
 ],
 "metadata": {
  "kernelspec": {
   "display_name": "base",
   "language": "python",
   "name": "python3"
  },
  "language_info": {
   "codemirror_mode": {
    "name": "ipython",
    "version": 3
   },
   "file_extension": ".py",
   "mimetype": "text/x-python",
   "name": "python",
   "nbconvert_exporter": "python",
   "pygments_lexer": "ipython3",
   "version": "3.9.13"
  },
  "orig_nbformat": 4,
  "vscode": {
   "interpreter": {
    "hash": "ad2bdc8ecc057115af97d19610ffacc2b4e99fae6737bb82f5d7fb13d2f2c186"
   }
  }
 },
 "nbformat": 4,
 "nbformat_minor": 2
}
